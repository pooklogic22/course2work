{
 "cells": [
  {
   "cell_type": "markdown",
   "id": "ed350060",
   "metadata": {},
   "source": [
    "# Data Science Tools and Ecosystem"
   ]
  },
  {
   "cell_type": "markdown",
   "id": "08183a6d",
   "metadata": {},
   "source": [
    "### In this notebook, Data Science Tools and Ecosystem are summarized."
   ]
  },
  {
   "cell_type": "markdown",
   "id": "44259db2",
   "metadata": {},
   "source": [
    "#### Some of the popular languages that Data Scientists use are:\n",
    "\n",
    "    1.) Python\n",
    "    2.) C++\n",
    "    3.) SQL\n",
    "    "
   ]
  },
  {
   "cell_type": "markdown",
   "id": "7ec3062e",
   "metadata": {},
   "source": [
    "#### Some of the commonly used libraries used by Data Scientists include:\n",
    "\n",
    "    1.) Numpy\n",
    "    2.) Pandas\n",
    "    3.) Matplotlib\n",
    "   "
   ]
  },
  {
   "cell_type": "markdown",
   "id": "3081c7ea",
   "metadata": {},
   "source": [
    "# **Objectives:\n",
    "+ Create a markdown cell introducing arithmetic expression examples\n",
    "+ Learn some of the languages data scientists utilize\n",
    "+ Learn some of the tools data scienctists utilize"
   ]
  },
  {
   "cell_type": "markdown",
   "id": "bcaa3ed6",
   "metadata": {},
   "source": [
    "| Data Science Tools |\n",
    "| ------------ |\n",
    "| Apache Spark |\n",
    "| Tensor Flow |\n",
    "| Tableau |"
   ]
  },
  {
   "cell_type": "markdown",
   "id": "a33df025",
   "metadata": {},
   "source": [
    "### Below are a few examples of evaluating arithmetic expressions in Python:"
   ]
  },
  {
   "cell_type": "code",
   "execution_count": 4,
   "id": "f6d0bf21",
   "metadata": {},
   "outputs": [],
   "source": [
    "#This a simple arithmetic expression to mutiply then add integers"
   ]
  },
  {
   "cell_type": "code",
   "execution_count": 5,
   "id": "7313509a",
   "metadata": {},
   "outputs": [
    {
     "data": {
      "text/plain": [
       "17"
      ]
     },
     "execution_count": 5,
     "metadata": {},
     "output_type": "execute_result"
    }
   ],
   "source": [
    "(3*4)+5"
   ]
  },
  {
   "cell_type": "code",
   "execution_count": 6,
   "id": "4de48826",
   "metadata": {},
   "outputs": [],
   "source": [
    "#This will convert 200 minutes to hours by diving by 60"
   ]
  },
  {
   "cell_type": "code",
   "execution_count": 7,
   "id": "c5f0656b",
   "metadata": {},
   "outputs": [
    {
     "data": {
      "text/plain": [
       "3.3333333333333335"
      ]
     },
     "execution_count": 7,
     "metadata": {},
     "output_type": "execute_result"
    }
   ],
   "source": [
    "200/60"
   ]
  },
  {
   "cell_type": "markdown",
   "id": "855c53b6",
   "metadata": {},
   "source": [
    "## Author:\n",
    "Kali Selogic"
   ]
  }
 ],
 "metadata": {
  "kernelspec": {
   "display_name": "Python 3 (ipykernel)",
   "language": "python",
   "name": "python3"
  },
  "language_info": {
   "codemirror_mode": {
    "name": "ipython",
    "version": 3
   },
   "file_extension": ".py",
   "mimetype": "text/x-python",
   "name": "python",
   "nbconvert_exporter": "python",
   "pygments_lexer": "ipython3",
   "version": "3.11.4"
  }
 },
 "nbformat": 4,
 "nbformat_minor": 5
}
